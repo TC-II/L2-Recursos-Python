{
 "cells": [
  {
   "cell_type": "code",
   "execution_count": 1,
   "metadata": {},
   "outputs": [],
   "source": [
    "import scipy.signal as ss\n",
    "import sympy as sp\n",
    "import matplotlib.pyplot as plt\n",
    "import numpy as np"
   ]
  },
  {
   "cell_type": "code",
   "execution_count": 2,
   "metadata": {},
   "outputs": [
    {
     "data": {
      "image/jpeg": "[encoded data removed]",
      "text/html": [
       "\n",
       "        <iframe\n",
       "            width=\"800\"\n",
       "            height=\"450\"\n",
       "            src=\"https://www.youtube.com/embed/e7KIFOoOYw8\"\n",
       "            frameborder=\"0\"\n",
       "            allowfullscreen\n",
       "            \n",
       "        ></iframe>\n",
       "        "
      ],
      "text/plain": [
       "<IPython.lib.display.YouTubeVideo at 0x7ff6b660f6a0>"
      ]
     },
     "execution_count": 2,
     "metadata": {},
     "output_type": "execute_result"
    }
   ],
   "source": [
    "\n",
    "from IPython.display import YouTubeVideo\n",
    "\n",
    "YouTubeVideo('e7KIFOoOYw8', width=800, height=450)"
   ]
  },
  {
   "attachments": {
    "RLC.png": {
     "image/png": "[encoded data removed]"
    }
   },
   "cell_type": "markdown",
   "metadata": {},
   "source": [
    "![RLC.png](attachment:RLC.png)"
   ]
  },
  {
   "cell_type": "code",
   "execution_count": 3,
   "metadata": {},
   "outputs": [
    {
     "data": {
      "text/latex": [
       "$\\displaystyle \\frac{1}{C L s^{2} + C R s + 1}$"
      ],
      "text/plain": [
       "1/(C*L*s**2 + C*R*s + 1)"
      ]
     },
     "metadata": {},
     "output_type": "display_data"
    }
   ],
   "source": [
    "r,l,c,s = sp.symbols('R L C s')\n",
    "n=1/(s*c)\n",
    "d=r+s*l+1/(s*c)\n",
    "h=n/d\n",
    "display(h.expand())"
   ]
  },
  {
   "cell_type": "code",
   "execution_count": 4,
   "metadata": {},
   "outputs": [
    {
     "data": {
      "text/plain": [
       "TransferFunctionContinuous(\n",
       "array([1.e+10]),\n",
       "array([1.e+00, 5.e+04, 1.e+10]),\n",
       "dt: None\n",
       ")"
      ]
     },
     "metadata": {},
     "output_type": "display_data"
    }
   ],
   "source": [
    "R=500\n",
    "L=10E-3\n",
    "C=10E-9\n",
    "\n",
    "num=[1]\n",
    "den=[L*C, R*C, 1]\n",
    "\n",
    "H=ss.lti(num,den)\n",
    "display(H)"
   ]
  },
  {
   "cell_type": "code",
   "execution_count": 5,
   "metadata": {},
   "outputs": [
    {
     "data": {
      "text/plain": [
       "array([  10000.        ,   10476.1575279 ,   10974.98765493,\n",
       "         11497.56995398,   12045.03540259,   12618.56883066,\n",
       "         13219.41148466,   13848.86371394,   14508.28778496,\n",
       "         15199.11082953,   15922.82793341,   16681.005372  ,\n",
       "         17475.28400008,   18307.38280295,   19179.10261672,\n",
       "         20092.33002565,   21049.04144512,   22051.30739903,\n",
       "         23101.29700083,   24201.28264794,   25353.6449397 ,\n",
       "         26560.87782947,   27825.59402207,   29150.53062825,\n",
       "         30538.55508833,   31992.67137797,   33516.02650939,\n",
       "         35111.91734215,   36783.79771829,   38535.28593711,\n",
       "         40370.17258597,   42292.42874389,   44306.21457584,\n",
       "         46415.88833613,   48626.01580065,   50941.38014816,\n",
       "         53366.99231206,   55908.10182512,   58570.20818057,\n",
       "         61359.07273413,   64280.73117284,   67341.50657751,\n",
       "         70548.02310719,   73907.22033526,   77426.36826811,\n",
       "         81113.08307897,   84975.34359086,   89021.5085445 ,\n",
       "         93260.33468832,   97700.99572992,  102353.1021899 ,\n",
       "        107226.72220103,  112332.4032978 ,  117681.1952435 ,\n",
       "        123284.67394421,  129154.96650149,  135304.77745798,\n",
       "        141747.41629268,  148496.82622545,  155567.61439305,\n",
       "        162975.08346206,  170735.26474707,  178864.95290574,\n",
       "        187381.74228604,  196304.06500403,  205651.23083487,\n",
       "        215443.46900319,  225701.97196339,  236448.94126454,\n",
       "        247707.63559917,  259502.42113997,  271858.82427329,\n",
       "        284803.58684358,  298364.72402833,  312571.58496882,\n",
       "        327454.91628777,  343046.92863149,  359381.36638046,\n",
       "        376493.58067925,  394420.60594377,  413201.24001153,\n",
       "        432876.12810831,  453487.85081286,  475081.01621028,\n",
       "        497702.35643321,  521400.82879997,  546227.72176843,\n",
       "        572236.76593502,  599484.25031894,  628029.14418343,\n",
       "        657933.22465757,  689261.21043497,  722080.90183855,\n",
       "        756463.32755463,  792482.89835392,  830217.56813198,\n",
       "        869749.00261778,  911162.75611549,  954548.45666183,\n",
       "       1000000.        ])"
      ]
     },
     "metadata": {},
     "output_type": "display_data"
    },
    {
     "data": {
      "text/plain": [
       "array([  0.0762324 ,   0.08368969,   0.09187911,   0.10087308,\n",
       "         0.1107513 ,   0.12160147,   0.13352018,   0.14661378,\n",
       "         0.16099946,   0.17680635,   0.19417684,   0.21326798,\n",
       "         0.23425304,   0.25732337,   0.28269029,   0.3105874 ,\n",
       "         0.34127301,   0.37503302,   0.41218403,   0.45307696,\n",
       "         0.498101  ,   0.54768824,   0.60231874,   0.6625264 ,\n",
       "         0.72890546,   0.802118  ,   0.88290222,   0.97208187,\n",
       "         1.07057668,   1.17941391,   1.29974083,   1.43283792,\n",
       "         1.58013213,   1.74320898,   1.92382143,   2.12389164,\n",
       "         2.34549909,   2.59084354,   2.86216327,   3.16157499,\n",
       "         3.49077812,   3.85052725,   4.2397151 ,   4.65382271,\n",
       "         5.08240719,   5.50532424,   5.8878574 ,   6.17651377,\n",
       "         6.30037625,   6.18518575,   5.78114534,   5.08825504,\n",
       "         4.15631175,   3.05957457,   1.8689606 ,   0.63796274,\n",
       "        -0.59870254,  -1.82089096,  -3.01815962,  -4.18598955,\n",
       "        -5.32327349,  -6.43076602,  -7.51016656,  -8.56359182,\n",
       "        -9.59328008, -10.6014311 , -11.59012435, -12.56128201,\n",
       "       -13.51665703, -14.45783493, -15.38624266, -16.30316069,\n",
       "       -17.20973631, -18.10699677, -18.9958618 , -19.87715514,\n",
       "       -20.75161502, -21.61990348, -22.48261479, -23.34028284,\n",
       "       -24.19338769, -25.04236142, -25.88759325, -26.72943406,\n",
       "       -27.56820048, -28.40417839, -29.23762612, -30.06877726,\n",
       "       -30.89784313, -31.72501507, -32.55046637, -33.37435408,\n",
       "       -34.19682056, -35.01799498, -35.83799449, -36.65692547,\n",
       "       -37.4748845 , -38.29195928, -39.1082295 , -39.9237676 ])"
      ]
     },
     "metadata": {},
     "output_type": "display_data"
    },
    {
     "data": {
      "text/plain": [
       "array([  -2.8912696 ,   -3.03166921,   -3.17916821,   -3.33416808,\n",
       "         -3.49709933,   -3.66842439,   -3.84864103,   -4.03828621,\n",
       "         -4.23794041,   -4.44823273,   -4.66984665,   -4.9035267 ,\n",
       "         -5.15008624,   -5.41041639,   -5.68549651,   -5.97640647,\n",
       "         -6.28434093,   -6.61062629,   -6.95674065,   -7.32433752,\n",
       "         -7.71527407,   -8.13164498,   -8.57582312,   -9.05050875,\n",
       "         -9.55878931,  -10.10421246,  -10.69087581,  -11.32353787,\n",
       "        -12.00775609,  -12.7500597 ,  -13.55816764,  -14.4412653 ,\n",
       "        -15.41035838,  -16.4787288 ,  -17.66252587,  -18.98153812,\n",
       "        -20.46020604,  -22.12895597,  -24.02595675,  -26.19942073,\n",
       "        -28.71057026,  -31.63732885,  -35.07857112,  -39.15815344,\n",
       "        -44.02650922,  -49.85465125,  -56.81061748,  -65.00422461,\n",
       "        -74.39347664,  -84.68438224,  -95.31561776, -105.60652336,\n",
       "       -114.99577539, -123.18938252, -130.14534875, -135.97349078,\n",
       "       -140.84184656, -144.92142888, -148.36267115, -151.28942974,\n",
       "       -153.80057927, -155.97404325, -157.87104403, -159.53979396,\n",
       "       -161.01846188, -162.33747413, -163.5212712 , -164.58964162,\n",
       "       -165.5587347 , -166.44183236, -167.2499403 , -167.99224391,\n",
       "       -168.67646213, -169.30912419, -169.89578754, -170.44121069,\n",
       "       -170.94949125, -171.42417688, -171.86835502, -172.28472593,\n",
       "       -172.67566248, -173.04325935, -173.38937371, -173.71565907,\n",
       "       -174.02359353, -174.31450349, -174.58958361, -174.84991376,\n",
       "       -175.0964733 , -175.33015335, -175.55176727, -175.76205959,\n",
       "       -175.96171379, -176.15135897, -176.33157561, -176.50290067,\n",
       "       -176.66583192, -176.82083179, -176.96833079, -177.1087304 ])"
      ]
     },
     "metadata": {},
     "output_type": "display_data"
    },
    {
     "data": {
      "text/plain": [
       "100"
      ]
     },
     "execution_count": 5,
     "metadata": {},
     "output_type": "execute_result"
    }
   ],
   "source": [
    "w, amp, ph = H.bode()\n",
    "display(w)\n",
    "display(amp)\n",
    "display(ph)\n",
    "len(w)"
   ]
  },
  {
   "cell_type": "code",
   "execution_count": 6,
   "metadata": {},
   "outputs": [
    {
     "data": {
      "text/plain": [
       "array([  10000.        ,   12742.74985703,   16237.76739189,\n",
       "         20691.38081115,   26366.5089873 ,   33598.18286284,\n",
       "         42813.32398719,   54555.94781169,   69519.27961776,\n",
       "         88586.67904101,  112883.78916847,  143844.98882877,\n",
       "        183298.07108324,  233572.14690901,  297635.14416313,\n",
       "        379269.01907323,  483293.02385718,  615848.21106603,\n",
       "        784759.97035146, 1000000.        ])"
      ]
     },
     "metadata": {},
     "output_type": "display_data"
    },
    {
     "data": {
      "text/plain": [
       "array([  0.0762324 ,   0.12401846,   0.20199588,   0.3296259 ,\n",
       "         0.53953631,   0.88737897,   1.47016128,   2.45861846,\n",
       "         4.11381719,   6.15255551,   4.04729235,  -2.20197229,\n",
       "        -8.06769733, -13.26668083, -18.05998945, -22.61835843,\n",
       "       -27.03879515, -31.37695149, -35.66545522, -39.9237676 ])"
      ]
     },
     "metadata": {},
     "output_type": "display_data"
    },
    {
     "data": {
      "text/plain": [
       "array([  -2.8912696 ,   -3.70560843,   -4.76672229,   -6.16882984,\n",
       "         -8.06411801,  -10.72298208,  -14.68745461,  -21.22483944,\n",
       "        -33.92930299,  -64.08292698, -115.91707302, -146.07069701,\n",
       "       -158.77516056, -165.31254539, -169.27701792, -171.93588199,\n",
       "       -173.83117016, -175.23327771, -176.29439157, -177.1087304 ])"
      ]
     },
     "metadata": {},
     "output_type": "display_data"
    },
    {
     "data": {
      "text/plain": [
       "20"
      ]
     },
     "execution_count": 6,
     "metadata": {},
     "output_type": "execute_result"
    }
   ],
   "source": [
    "w, amp, ph = H.bode(n=20)\n",
    "display(w)\n",
    "display(amp)\n",
    "display(ph)\n",
    "len(w)"
   ]
  },
  {
   "cell_type": "code",
   "execution_count": 7,
   "metadata": {},
   "outputs": [
    {
     "data": {
      "text/plain": [
       "array([1.00000000e+03, 3.44414716e+04, 6.78829431e+04, 1.01324415e+05,\n",
       "       1.34765886e+05, 1.68207358e+05, 2.01648829e+05, 2.35090301e+05,\n",
       "       2.68531773e+05, 3.01973244e+05, 3.35414716e+05, 3.68856187e+05,\n",
       "       4.02297659e+05, 4.35739130e+05, 4.69180602e+05, 5.02622074e+05,\n",
       "       5.36063545e+05, 5.69505017e+05, 6.02946488e+05, 6.36387960e+05,\n",
       "       6.69829431e+05, 7.03270903e+05, 7.36712375e+05, 7.70153846e+05,\n",
       "       8.03595318e+05, 8.37036789e+05, 8.70478261e+05, 9.03919732e+05,\n",
       "       9.37361204e+05, 9.70802676e+05, 1.00424415e+06, 1.03768562e+06,\n",
       "       1.07112709e+06, 1.10456856e+06, 1.13801003e+06, 1.17145151e+06,\n",
       "       1.20489298e+06, 1.23833445e+06, 1.27177592e+06, 1.30521739e+06,\n",
       "       1.33865886e+06, 1.37210033e+06, 1.40554181e+06, 1.43898328e+06,\n",
       "       1.47242475e+06, 1.50586622e+06, 1.53930769e+06, 1.57274916e+06,\n",
       "       1.60619064e+06, 1.63963211e+06, 1.67307358e+06, 1.70651505e+06,\n",
       "       1.73995652e+06, 1.77339799e+06, 1.80683946e+06, 1.84028094e+06,\n",
       "       1.87372241e+06, 1.90716388e+06, 1.94060535e+06, 1.97404682e+06,\n",
       "       2.00748829e+06, 2.04092977e+06, 2.07437124e+06, 2.10781271e+06,\n",
       "       2.14125418e+06, 2.17469565e+06, 2.20813712e+06, 2.24157860e+06,\n",
       "       2.27502007e+06, 2.30846154e+06, 2.34190301e+06, 2.37534448e+06,\n",
       "       2.40878595e+06, 2.44222742e+06, 2.47566890e+06, 2.50911037e+06,\n",
       "       2.54255184e+06, 2.57599331e+06, 2.60943478e+06, 2.64287625e+06,\n",
       "       2.67631773e+06, 2.70975920e+06, 2.74320067e+06, 2.77664214e+06,\n",
       "       2.81008361e+06, 2.84352508e+06, 2.87696656e+06, 2.91040803e+06,\n",
       "       2.94384950e+06, 2.97729097e+06, 3.01073244e+06, 3.04417391e+06,\n",
       "       3.07761538e+06, 3.11105686e+06, 3.14449833e+06, 3.17793980e+06,\n",
       "       3.21138127e+06, 3.24482274e+06, 3.27826421e+06, 3.31170569e+06,\n",
       "       3.34514716e+06, 3.37858863e+06, 3.41203010e+06, 3.44547157e+06,\n",
       "       3.47891304e+06, 3.51235452e+06, 3.54579599e+06, 3.57923746e+06,\n",
       "       3.61267893e+06, 3.64612040e+06, 3.67956187e+06, 3.71300334e+06,\n",
       "       3.74644482e+06, 3.77988629e+06, 3.81332776e+06, 3.84676923e+06,\n",
       "       3.88021070e+06, 3.91365217e+06, 3.94709365e+06, 3.98053512e+06,\n",
       "       4.01397659e+06, 4.04741806e+06, 4.08085953e+06, 4.11430100e+06,\n",
       "       4.14774247e+06, 4.18118395e+06, 4.21462542e+06, 4.24806689e+06,\n",
       "       4.28150836e+06, 4.31494983e+06, 4.34839130e+06, 4.38183278e+06,\n",
       "       4.41527425e+06, 4.44871572e+06, 4.48215719e+06, 4.51559866e+06,\n",
       "       4.54904013e+06, 4.58248161e+06, 4.61592308e+06, 4.64936455e+06,\n",
       "       4.68280602e+06, 4.71624749e+06, 4.74968896e+06, 4.78313043e+06,\n",
       "       4.81657191e+06, 4.85001338e+06, 4.88345485e+06, 4.91689632e+06,\n",
       "       4.95033779e+06, 4.98377926e+06, 5.01722074e+06, 5.05066221e+06,\n",
       "       5.08410368e+06, 5.11754515e+06, 5.15098662e+06, 5.18442809e+06,\n",
       "       5.21786957e+06, 5.25131104e+06, 5.28475251e+06, 5.31819398e+06,\n",
       "       5.35163545e+06, 5.38507692e+06, 5.41851839e+06, 5.45195987e+06,\n",
       "       5.48540134e+06, 5.51884281e+06, 5.55228428e+06, 5.58572575e+06,\n",
       "       5.61916722e+06, 5.65260870e+06, 5.68605017e+06, 5.71949164e+06,\n",
       "       5.75293311e+06, 5.78637458e+06, 5.81981605e+06, 5.85325753e+06,\n",
       "       5.88669900e+06, 5.92014047e+06, 5.95358194e+06, 5.98702341e+06,\n",
       "       6.02046488e+06, 6.05390635e+06, 6.08734783e+06, 6.12078930e+06,\n",
       "       6.15423077e+06, 6.18767224e+06, 6.22111371e+06, 6.25455518e+06,\n",
       "       6.28799666e+06, 6.32143813e+06, 6.35487960e+06, 6.38832107e+06,\n",
       "       6.42176254e+06, 6.45520401e+06, 6.48864548e+06, 6.52208696e+06,\n",
       "       6.55552843e+06, 6.58896990e+06, 6.62241137e+06, 6.65585284e+06,\n",
       "       6.68929431e+06, 6.72273579e+06, 6.75617726e+06, 6.78961873e+06,\n",
       "       6.82306020e+06, 6.85650167e+06, 6.88994314e+06, 6.92338462e+06,\n",
       "       6.95682609e+06, 6.99026756e+06, 7.02370903e+06, 7.05715050e+06,\n",
       "       7.09059197e+06, 7.12403344e+06, 7.15747492e+06, 7.19091639e+06,\n",
       "       7.22435786e+06, 7.25779933e+06, 7.29124080e+06, 7.32468227e+06,\n",
       "       7.35812375e+06, 7.39156522e+06, 7.42500669e+06, 7.45844816e+06,\n",
       "       7.49188963e+06, 7.52533110e+06, 7.55877258e+06, 7.59221405e+06,\n",
       "       7.62565552e+06, 7.65909699e+06, 7.69253846e+06, 7.72597993e+06,\n",
       "       7.75942140e+06, 7.79286288e+06, 7.82630435e+06, 7.85974582e+06,\n",
       "       7.89318729e+06, 7.92662876e+06, 7.96007023e+06, 7.99351171e+06,\n",
       "       8.02695318e+06, 8.06039465e+06, 8.09383612e+06, 8.12727759e+06,\n",
       "       8.16071906e+06, 8.19416054e+06, 8.22760201e+06, 8.26104348e+06,\n",
       "       8.29448495e+06, 8.32792642e+06, 8.36136789e+06, 8.39480936e+06,\n",
       "       8.42825084e+06, 8.46169231e+06, 8.49513378e+06, 8.52857525e+06,\n",
       "       8.56201672e+06, 8.59545819e+06, 8.62889967e+06, 8.66234114e+06,\n",
       "       8.69578261e+06, 8.72922408e+06, 8.76266555e+06, 8.79610702e+06,\n",
       "       8.82954849e+06, 8.86298997e+06, 8.89643144e+06, 8.92987291e+06,\n",
       "       8.96331438e+06, 8.99675585e+06, 9.03019732e+06, 9.06363880e+06,\n",
       "       9.09708027e+06, 9.13052174e+06, 9.16396321e+06, 9.19740468e+06,\n",
       "       9.23084615e+06, 9.26428763e+06, 9.29772910e+06, 9.33117057e+06,\n",
       "       9.36461204e+06, 9.39805351e+06, 9.43149498e+06, 9.46493645e+06,\n",
       "       9.49837793e+06, 9.53181940e+06, 9.56526087e+06, 9.59870234e+06,\n",
       "       9.63214381e+06, 9.66558528e+06, 9.69902676e+06, 9.73246823e+06,\n",
       "       9.76590970e+06, 9.79935117e+06, 9.83279264e+06, 9.86623411e+06,\n",
       "       9.89967559e+06, 9.93311706e+06, 9.96655853e+06, 1.00000000e+07])"
      ]
     },
     "metadata": {},
     "output_type": "display_data"
    },
    {
     "data": {
      "text/plain": [
       "array([ 7.60038415e-04,  9.34045454e-01,  3.91550076e+00,  5.89430471e+00,\n",
       "       -4.92967682e-01, -6.07877644e+00, -1.01779654e+01, -1.33991046e+01,\n",
       "       -1.60614911e+01, -1.83374839e+01, -2.03294613e+01, -2.21031776e+01,\n",
       "       -2.37034705e+01, -2.51623624e+01, -2.65035733e+01, -2.77451973e+01,\n",
       "       -2.89013737e+01, -2.99833755e+01, -3.10003453e+01, -3.19598066e+01,\n",
       "       -3.28680290e+01, -3.37302959e+01, -3.45511028e+01, -3.53343082e+01,\n",
       "       -3.60832499e+01, -3.68008355e+01, -3.74896137e+01, -3.81518318e+01,\n",
       "       -3.87894815e+01, -3.94043368e+01, -3.99979849e+01, -4.05718513e+01,\n",
       "       -4.11272217e+01, -4.16652594e+01, -4.21870206e+01, -4.26934674e+01,\n",
       "       -4.31854783e+01, -4.36638583e+01, -4.41293461e+01, -4.45826220e+01,\n",
       "       -4.50243134e+01, -4.54550004e+01, -4.58752205e+01, -4.62854723e+01,\n",
       "       -4.66862197e+01, -4.70778950e+01, -4.74609011e+01, -4.78356150e+01,\n",
       "       -4.82023892e+01, -4.85615544e+01, -4.89134208e+01, -4.92582800e+01,\n",
       "       -4.95964065e+01, -4.99280589e+01, -5.02534810e+01, -5.05729034e+01,\n",
       "       -5.08865436e+01, -5.11946079e+01, -5.14972915e+01, -5.17947795e+01,\n",
       "       -5.20872478e+01, -5.23748631e+01, -5.26577844e+01, -5.29361627e+01,\n",
       "       -5.32101417e+01, -5.34798588e+01, -5.37454446e+01, -5.40070240e+01,\n",
       "       -5.42647164e+01, -5.45186357e+01, -5.47688910e+01, -5.50155868e+01,\n",
       "       -5.52588229e+01, -5.54986953e+01, -5.57352958e+01, -5.59687127e+01,\n",
       "       -5.61990305e+01, -5.64263306e+01, -5.66506912e+01, -5.68721874e+01,\n",
       "       -5.70908916e+01, -5.73068732e+01, -5.75201994e+01, -5.77309347e+01,\n",
       "       -5.79391414e+01, -5.81448794e+01, -5.83482068e+01, -5.85491794e+01,\n",
       "       -5.87478512e+01, -5.89442743e+01, -5.91384992e+01, -5.93305744e+01,\n",
       "       -5.95205471e+01, -5.97084630e+01, -5.98943660e+01, -6.00782990e+01,\n",
       "       -6.02603031e+01, -6.04404186e+01, -6.06186842e+01, -6.07951377e+01,\n",
       "       -6.09698154e+01, -6.11427527e+01, -6.13139842e+01, -6.14835431e+01,\n",
       "       -6.16514617e+01, -6.18177716e+01, -6.19825033e+01, -6.21456865e+01,\n",
       "       -6.23073501e+01, -6.24675220e+01, -6.26262297e+01, -6.27834996e+01,\n",
       "       -6.29393576e+01, -6.30938288e+01, -6.32469378e+01, -6.33987082e+01,\n",
       "       -6.35491634e+01, -6.36983260e+01, -6.38462180e+01, -6.39928608e+01,\n",
       "       -6.41382754e+01, -6.42824823e+01, -6.44255013e+01, -6.45673518e+01,\n",
       "       -6.47080529e+01, -6.48476229e+01, -6.49860799e+01, -6.51234416e+01,\n",
       "       -6.52597252e+01, -6.53949474e+01, -6.55291247e+01, -6.56622730e+01,\n",
       "       -6.57944082e+01, -6.59255454e+01, -6.60556997e+01, -6.61848856e+01,\n",
       "       -6.63131175e+01, -6.64404094e+01, -6.65667750e+01, -6.66922276e+01,\n",
       "       -6.68167804e+01, -6.69404461e+01, -6.70632374e+01, -6.71851665e+01,\n",
       "       -6.73062455e+01, -6.74264860e+01, -6.75458998e+01, -6.76644979e+01,\n",
       "       -6.77822916e+01, -6.78992917e+01, -6.80155087e+01, -6.81309532e+01,\n",
       "       -6.82456353e+01, -6.83595650e+01, -6.84727521e+01, -6.85852063e+01,\n",
       "       -6.86969369e+01, -6.88079533e+01, -6.89182646e+01, -6.90278795e+01,\n",
       "       -6.91368069e+01, -6.92450554e+01, -6.93526332e+01, -6.94595488e+01,\n",
       "       -6.95658102e+01, -6.96714254e+01, -6.97764022e+01, -6.98807482e+01,\n",
       "       -6.99844710e+01, -7.00875780e+01, -7.01900765e+01, -7.02919737e+01,\n",
       "       -7.03932764e+01, -7.04939917e+01, -7.05941262e+01, -7.06936868e+01,\n",
       "       -7.07926798e+01, -7.08911118e+01, -7.09889890e+01, -7.10863178e+01,\n",
       "       -7.11831041e+01, -7.12793541e+01, -7.13750735e+01, -7.14702684e+01,\n",
       "       -7.15649443e+01, -7.16591069e+01, -7.17527617e+01, -7.18459142e+01,\n",
       "       -7.19385697e+01, -7.20307336e+01, -7.21224110e+01, -7.22136070e+01,\n",
       "       -7.23043266e+01, -7.23945749e+01, -7.24843566e+01, -7.25736766e+01,\n",
       "       -7.26625396e+01, -7.27509502e+01, -7.28389131e+01, -7.29264327e+01,\n",
       "       -7.30135136e+01, -7.31001600e+01, -7.31863763e+01, -7.32721667e+01,\n",
       "       -7.33575355e+01, -7.34424867e+01, -7.35270244e+01, -7.36111527e+01,\n",
       "       -7.36948754e+01, -7.37781965e+01, -7.38611198e+01, -7.39436490e+01,\n",
       "       -7.40257880e+01, -7.41075404e+01, -7.41889097e+01, -7.42698997e+01,\n",
       "       -7.43505137e+01, -7.44307553e+01, -7.45106280e+01, -7.45901350e+01,\n",
       "       -7.46692797e+01, -7.47480654e+01, -7.48264953e+01, -7.49045727e+01,\n",
       "       -7.49823007e+01, -7.50596824e+01, -7.51367209e+01, -7.52134192e+01,\n",
       "       -7.52897803e+01, -7.53658071e+01, -7.54415026e+01, -7.55168697e+01,\n",
       "       -7.55919112e+01, -7.56666298e+01, -7.57410284e+01, -7.58151097e+01,\n",
       "       -7.58888764e+01, -7.59623311e+01, -7.60354765e+01, -7.61083151e+01,\n",
       "       -7.61808496e+01, -7.62530824e+01, -7.63250161e+01, -7.63966531e+01,\n",
       "       -7.64679958e+01, -7.65390468e+01, -7.66098082e+01, -7.66802826e+01,\n",
       "       -7.67504722e+01, -7.68203793e+01, -7.68900062e+01, -7.69593550e+01,\n",
       "       -7.70284281e+01, -7.70972276e+01, -7.71657557e+01, -7.72340145e+01,\n",
       "       -7.73020061e+01, -7.73697326e+01, -7.74371960e+01, -7.75043984e+01,\n",
       "       -7.75713418e+01, -7.76380282e+01, -7.77044596e+01, -7.77706379e+01,\n",
       "       -7.78365649e+01, -7.79022427e+01, -7.79676731e+01, -7.80328580e+01,\n",
       "       -7.80977991e+01, -7.81624984e+01, -7.82269576e+01, -7.82911784e+01,\n",
       "       -7.83551627e+01, -7.84189121e+01, -7.84824284e+01, -7.85457134e+01,\n",
       "       -7.86087685e+01, -7.86715956e+01, -7.87341963e+01, -7.87965722e+01,\n",
       "       -7.88587249e+01, -7.89206560e+01, -7.89823671e+01, -7.90438597e+01,\n",
       "       -7.91051354e+01, -7.91661957e+01, -7.92270421e+01, -7.92876761e+01,\n",
       "       -7.93480991e+01, -7.94083127e+01, -7.94683184e+01, -7.95281174e+01,\n",
       "       -7.95877113e+01, -7.96471014e+01, -7.97062891e+01, -7.97652759e+01,\n",
       "       -7.98240630e+01, -7.98826518e+01, -7.99410437e+01, -7.99992400e+01])"
      ]
     },
     "metadata": {},
     "output_type": "display_data"
    },
    {
     "data": {
      "text/plain": [
       "array([  -0.28650516,  -11.05540937,  -32.18997587,  -93.01271782,\n",
       "       -140.45743798, -155.30982679, -161.79796551, -165.44359473,\n",
       "       -167.80169223, -169.46494462, -170.7080456 , -171.67623971,\n",
       "       -172.45389414, -173.09357505, -173.62985811, -174.08648578,\n",
       "       -174.4803417 , -174.82378462, -175.12608399, -175.39433794,\n",
       "       -175.63408   , -175.84969177, -176.04469059, -176.22193449,\n",
       "       -176.3837711 , -176.53214764, -176.66869345, -176.79478285,\n",
       "       -176.91158346, -177.02009397, -177.12117377, -177.21556664,\n",
       "       -177.30391961, -177.38679834, -177.46469956, -177.53806131,\n",
       "       -177.60727144, -177.6726746 , -177.73457812, -177.79325697,\n",
       "       -177.84895792, -177.90190307, -177.95229288, -178.00030877,\n",
       "       -178.04611528, -178.08986206, -178.13168549, -178.17171012,\n",
       "       -178.21004995, -178.24680952, -178.28208484, -178.31596431,\n",
       "       -178.34852941, -178.37985538, -178.41001182, -178.4390632 ,\n",
       "       -178.4670693 , -178.4940857 , -178.52016405, -178.54535249,\n",
       "       -178.56969592, -178.59323623, -178.61601262, -178.63806174,\n",
       "       -178.65941795, -178.68011347, -178.70017855, -178.71964161,\n",
       "       -178.73852939, -178.75686708, -178.77467838, -178.7919857 ,\n",
       "       -178.80881014, -178.82517168, -178.84108917, -178.8565805 ,\n",
       "       -178.87166256, -178.88635138, -178.90066218, -178.91460937,\n",
       "       -178.92820665, -178.94146705, -178.95440294, -178.96702612,\n",
       "       -178.97934779, -178.99137864, -179.00312887, -179.01460818,\n",
       "       -179.02582584, -179.03679072, -179.04751127, -179.05799558,\n",
       "       -179.06825136, -179.07828604, -179.08810667, -179.09772005,\n",
       "       -179.10713268, -179.11635078, -179.12538032, -179.13422705,\n",
       "       -179.14289645, -179.15139381, -179.15972421, -179.16789253,\n",
       "       -179.17590345, -179.18376147, -179.19147095, -179.19903605,\n",
       "       -179.2064608 , -179.21374907, -179.22090459, -179.22793096,\n",
       "       -179.23483164, -179.24160998, -179.2482692 , -179.25481243,\n",
       "       -179.26124266, -179.26756281, -179.27377567, -179.27988395,\n",
       "       -179.28589028, -179.29179719, -179.29760713, -179.30332246,\n",
       "       -179.30894549, -179.31447842, -179.31992342, -179.32528255,\n",
       "       -179.33055785, -179.33575125, -179.34086465, -179.3458999 ,\n",
       "       -179.35085876, -179.35574296, -179.36055418, -179.36529404,\n",
       "       -179.36996412, -179.37456595, -179.37910101, -179.38357076,\n",
       "       -179.38797658, -179.39231984, -179.39660187, -179.40082394,\n",
       "       -179.40498733, -179.40909322, -179.41314282, -179.41713728,\n",
       "       -179.4210777 , -179.42496518, -179.42880079, -179.43258554,\n",
       "       -179.43632045, -179.4400065 , -179.44364464, -179.44723579,\n",
       "       -179.45078087, -179.45428074, -179.45773628, -179.46114832,\n",
       "       -179.46451768, -179.46784515, -179.47113151, -179.47437751,\n",
       "       -179.4775839 , -179.4807514 , -179.4838807 , -179.48697251,\n",
       "       -179.49002748, -179.49304627, -179.49602952, -179.49897786,\n",
       "       -179.50189189, -179.50477221, -179.5076194 , -179.51043404,\n",
       "       -179.51321667, -179.51596783, -179.51868807, -179.52137789,\n",
       "       -179.52403781, -179.52666832, -179.52926991, -179.53184304,\n",
       "       -179.5343882 , -179.53690582, -179.53939636, -179.54186024,\n",
       "       -179.5442979 , -179.54670975, -179.5490962 , -179.55145764,\n",
       "       -179.55379448, -179.55610709, -179.55839584, -179.56066111,\n",
       "       -179.56290325, -179.56512262, -179.56731956, -179.56949441,\n",
       "       -179.5716475 , -179.57377915, -179.5758897 , -179.57797943,\n",
       "       -179.58004868, -179.58209772, -179.58412686, -179.58613639,\n",
       "       -179.58812659, -179.59009774, -179.5920501 , -179.59398395,\n",
       "       -179.59589955, -179.59779716, -179.59967702, -179.60153939,\n",
       "       -179.60338451, -179.60521262, -179.60702395, -179.60881873,\n",
       "       -179.61059719, -179.61235955, -179.61410602, -179.61583683,\n",
       "       -179.61755217, -179.61925227, -179.62093731, -179.6226075 ,\n",
       "       -179.62426304, -179.62590411, -179.62753091, -179.62914362,\n",
       "       -179.63074242, -179.63232749, -179.63389901, -179.63545715,\n",
       "       -179.63700208, -179.63853398, -179.64005299, -179.64155929,\n",
       "       -179.64305303, -179.64453437, -179.64600347, -179.64746047,\n",
       "       -179.64890553, -179.65033878, -179.65176038, -179.65317047,\n",
       "       -179.65456918, -179.65595665, -179.65733303, -179.65869843,\n",
       "       -179.66005299, -179.66139684, -179.6627301 , -179.66405291,\n",
       "       -179.66536538, -179.66666763, -179.66795978, -179.66924196,\n",
       "       -179.67051427, -179.67177682, -179.67302974, -179.67427313,\n",
       "       -179.67550709, -179.67673174, -179.67794718, -179.67915352,\n",
       "       -179.68035084, -179.68153927, -179.68271889, -179.6838898 ,\n",
       "       -179.6850521 , -179.68620588, -179.68735124, -179.68848827,\n",
       "       -179.68961706, -179.69073769, -179.69185026, -179.69295486,\n",
       "       -179.69405156, -179.69514045, -179.69622162, -179.69729515,\n",
       "       -179.69836112, -179.69941961, -179.70047069, -179.70151444,\n",
       "       -179.70255095, -179.70358028, -179.70460251, -179.70561771,\n",
       "       -179.70662596, -179.70762733, -179.70862188, -179.70960969,\n",
       "       -179.71059082, -179.71156535, -179.71253333, -179.71349484])"
      ]
     },
     "metadata": {},
     "output_type": "display_data"
    },
    {
     "data": {
      "text/plain": [
       "300"
      ]
     },
     "execution_count": 7,
     "metadata": {},
     "output_type": "execute_result"
    }
   ],
   "source": [
    "custom_w=np.linspace(1e3,10e6,300)\n",
    "w, amp, ph = H.bode(w=custom_w)\n",
    "display(w)\n",
    "display(amp)\n",
    "display(ph)\n",
    "len(w)"
   ]
  },
  {
   "cell_type": "code",
   "execution_count": 8,
   "metadata": {},
   "outputs": [
    {
     "data": {
      "text/plain": [
       "array([   1000.        ,    1091.37671465,    1191.10313328,\n",
       "          1299.94222441,    1418.72667412,    1548.36525659,\n",
       "          1689.84978681,    1844.26270859,    2012.78537585,\n",
       "          2196.70709079,    2397.4349678 ,    2616.50469875,\n",
       "          2855.59230199,    3116.52694493,    3401.30493828,\n",
       "          3712.10500907,    4051.30496924,    4421.49990737,\n",
       "          4825.52204274,    5266.46239348,    5747.69442484,\n",
       "          6272.8998582 ,    6846.09683857,    7471.67067587,\n",
       "          8154.40739519,    8899.53035289,    9712.74019847,\n",
       "         10600.25848807,   11568.87528316,   12626.00109875,\n",
       "         13779.72359834,   15038.86946955,   16413.07195375,\n",
       "         17912.84454622,   19549.66143091,   21336.04526501,\n",
       "         23285.66298498,   25413.43036703,   27735.62614198,\n",
       "         30270.01653763,   33035.99120128,   36054.71154251,\n",
       "         39349.27263096,   42944.87988789,   46869.04192314,\n",
       "         51151.78099293,   55825.86268863,   60927.04661369,\n",
       "         66494.35996665,   72570.39612324,   79201.64050193,\n",
       "         86438.82620598,   94337.322163  ,  102957.55673125,\n",
       "        112365.48001388,  122633.06841776,  133838.87531738,\n",
       "        146068.6320365 ,  159415.9037456 ,  173982.80529304,\n",
       "        189880.78244653,  207231.4645219 ,  226167.59492229,\n",
       "        246834.04670687,  269388.93095902,  294004.80643347,\n",
       "        320869.99973705,  350190.04614317,  382189.26206331,\n",
       "        417112.46120565,  455226.82755073,  496823.95947344,\n",
       "        542222.10065016,  591768.57481888,  645842.4430197 ,\n",
       "        704857.40364519,  769264.95748791,  839557.86199951,\n",
       "        916273.90118867, 1000000.        ])"
      ]
     },
     "metadata": {},
     "output_type": "display_data"
    },
    {
     "data": {
      "text/plain": [
       "array([ 7.60038415e-04,  9.05289390e-04,  1.07830048e-03,  1.28437765e-03,\n",
       "        1.52984124e-03,  1.82221997e-03,  2.17048211e-03,  2.58531086e-03,\n",
       "        3.07943263e-03,  3.66800805e-03,  4.36909818e-03,  5.20422005e-03,\n",
       "        6.19900897e-03,  7.38400826e-03,  8.79561088e-03,  1.04771827e-02,\n",
       "        1.24804025e-02,  1.48668616e-02,  1.77099732e-02,  2.10972531e-02,\n",
       "        2.51330459e-02,  2.99417841e-02,  3.56718890e-02,  4.25004430e-02,\n",
       "        5.06387909e-02,  6.03392646e-02,  7.19032667e-02,  8.56910039e-02,\n",
       "        1.02133231e-01,  1.21745448e-01,  1.45145116e-01,  1.73072587e-01,\n",
       "        2.06416634e-01,  2.46245727e-01,  2.93846484e-01,  3.50771181e-01,\n",
       "        4.18896727e-01,  5.00498235e-01,  5.98341211e-01,  7.15797471e-01,\n",
       "        8.56991073e-01,  1.02698142e+00,  1.23199008e+00,  1.47967294e+00,\n",
       "        1.77942157e+00,  2.14262656e+00,  2.58269318e+00,  3.11421032e+00,\n",
       "        3.74961251e+00,  4.48885194e+00,  5.29096905e+00,  6.00817502e+00,\n",
       "        6.29674596e+00,  5.70878527e+00,  4.14980732e+00,  2.00746462e+00,\n",
       "       -3.09849527e-01, -2.59703837e+00, -4.78721446e+00, -6.87126238e+00,\n",
       "       -8.85917740e+00, -1.07654116e+01, -1.26039306e+01, -1.43868182e+01,\n",
       "       -1.61241089e+01, -1.78240032e+01, -1.94931687e+01, -2.11370244e+01,\n",
       "       -2.27599841e+01, -2.43656522e+01, -2.59569821e+01, -2.75364012e+01,\n",
       "       -2.91059102e+01, -3.06671621e+01, -3.22215266e+01, -3.37701400e+01,\n",
       "       -3.53139473e+01, -3.68537351e+01, -3.83901594e+01, -3.99237676e+01])"
      ]
     },
     "metadata": {},
     "output_type": "display_data"
    },
    {
     "data": {
      "text/plain": [
       "array([  -0.28650516,   -0.31269054,   -0.34127029,   -0.37246371,\n",
       "         -0.40651026,   -0.44367147,   -0.48423306,   -0.52850712,\n",
       "         -0.57683475,   -0.62958871,   -0.68717656,   -0.75004405,\n",
       "         -0.81867884,   -0.89361475,   -0.97543642,   -1.06478457,\n",
       "         -1.16236195,   -1.26894005,   -1.38536674,   -1.51257505,\n",
       "         -1.65159327,   -1.80355672,   -1.96972147,   -2.15148066,\n",
       "         -2.35038384,   -2.56816026,   -2.80674711,   -3.0683242 ,\n",
       "         -3.35535675,   -3.67064896,   -4.0174115 ,   -4.39934763,\n",
       "         -4.82076404,   -5.28671512,   -5.80319279,   -6.37737922,\n",
       "         -7.01798737,   -7.73572608,   -8.54394447,   -9.45953889,\n",
       "        -10.50425193,  -11.70656872,  -13.10454418,  -14.75011537,\n",
       "        -16.71584242,  -19.10571329,  -22.07287456,  -25.84920824,\n",
       "        -30.79442633,  -37.4721718 ,  -46.73597988,  -59.67242852,\n",
       "        -76.86750344,  -96.65083154, -115.05155269, -129.41267776,\n",
       "       -139.77858297, -147.20768232, -152.65501845, -156.77278258,\n",
       "       -159.97883772, -162.54099181, -164.63457065, -166.37751956,\n",
       "       -167.8514066 , -169.11413607, -170.20781557, -171.16374691,\n",
       "       -172.00567201, -172.75193397, -173.4169474 , -174.01221874,\n",
       "       -174.54706707, -175.02914172, -175.46479954, -175.85938367,\n",
       "       -176.21743203, -176.54283526, -176.83895759, -177.1087304 ])"
      ]
     },
     "metadata": {},
     "output_type": "display_data"
    },
    {
     "data": {
      "text/plain": [
       "80"
      ]
     },
     "execution_count": 8,
     "metadata": {},
     "output_type": "execute_result"
    }
   ],
   "source": [
    "custom_w=np.logspace(3, 6, 80)\n",
    "\n",
    "w, amp, ph = H.bode(w=custom_w)\n",
    "display(w)\n",
    "display(amp)\n",
    "display(ph)\n",
    "len(w)"
   ]
  },
  {
   "cell_type": "code",
   "execution_count": 9,
   "metadata": {},
   "outputs": [
    {
     "data": {
      "image/png": "[encoded data removed]",
      "text/plain": [
       "<Figure size 640x480 with 1 Axes>"
      ]
     },
     "metadata": {},
     "output_type": "display_data"
    },
    {
     "data": {
      "image/png": "[encoded data removed]",
      "text/plain": [
       "<Figure size 640x480 with 1 Axes>"
      ]
     },
     "metadata": {},
     "output_type": "display_data"
    }
   ],
   "source": [
    "plt.figure()\n",
    "plt.semilogx(w, amp)\n",
    "plt.title('Amplitud')\n",
    "plt.xlabel('Frecuencia [rad/s]')\n",
    "plt.ylabel('|H_lowpass| [dB]')\n",
    "plt.grid(True)\n",
    "\n",
    "\n",
    "# Plot phase response\n",
    "plt.figure()\n",
    "plt.semilogx(w, ph)\n",
    "plt.title('Fase')\n",
    "plt.xlabel('Frecuencia [rad/s]')\n",
    "plt.ylabel('Fase [degrees]')\n",
    "plt.grid(True)\n",
    "\n",
    "plt.show()"
   ]
  },
  {
   "cell_type": "code",
   "execution_count": 10,
   "metadata": {},
   "outputs": [
    {
     "data": {
      "text/plain": [
       "array([  10000.        ,   12742.74985703,   16237.76739189,\n",
       "         20691.38081115,   26366.5089873 ,   33598.18286284,\n",
       "         42813.32398719,   54555.94781169,   69519.27961776,\n",
       "         88586.67904101,  112883.78916847,  143844.98882877,\n",
       "        183298.07108324,  233572.14690901,  297635.14416313,\n",
       "        379269.01907323,  483293.02385718,  615848.21106603,\n",
       "        784759.97035146, 1000000.        ])"
      ]
     },
     "metadata": {},
     "output_type": "display_data"
    },
    {
     "data": {
      "text/plain": [
       "array([ 1.00753104-5.08854061e-02j,  1.0122598 -6.55594057e-02j,\n",
       "        1.01998807-8.50542283e-02j,  1.03266447-1.11614873e-01j,\n",
       "        1.05356421-1.49271283e-01j,  1.08822428-2.06074232e-01j,\n",
       "        1.1457232 -3.00306740e-01j,  1.23715644-4.80478496e-01j,\n",
       "        1.33237368-8.96307408e-01j,  0.88752091-1.82639192e+00j,\n",
       "       -0.69649088-1.43327927e+00j, -0.6439269 -4.33179118e-01j,\n",
       "       -0.36822123-1.43007286e-01j, -0.21000885-5.50456462e-02j,\n",
       "       -0.12284288-2.32624402e-02j, -0.07324303-1.03772321e-02j,\n",
       "       -0.0442118 -4.77860370e-03j, -0.02689352-2.24258307e-03j,\n",
       "       -0.01643684-1.06453838e-03j, -0.01007531-5.08854061e-04j])"
      ]
     },
     "metadata": {},
     "output_type": "display_data"
    },
    {
     "data": {
      "text/plain": [
       "20"
      ]
     },
     "execution_count": 10,
     "metadata": {},
     "output_type": "execute_result"
    }
   ],
   "source": [
    "w, mag = H.freqresp(n=20)\n",
    "display(w)\n",
    "display(mag)\n",
    "len(w)"
   ]
  },
  {
   "cell_type": "markdown",
   "metadata": {},
   "source": []
  },
  {
   "cell_type": "code",
   "execution_count": null,
   "metadata": {},
   "outputs": [],
   "source": []
  },
  {
   "cell_type": "code",
   "execution_count": null,
   "metadata": {},
   "outputs": [],
   "source": []
  },
  {
   "cell_type": "code",
   "execution_count": null,
   "metadata": {},
   "outputs": [],
   "source": []
  },
  {
   "cell_type": "code",
   "execution_count": null,
   "metadata": {},
   "outputs": [],
   "source": []
  },
  {
   "cell_type": "code",
   "execution_count": null,
   "metadata": {},
   "outputs": [],
   "source": []
  }
 ],
 "metadata": {
  "kernelspec": {
   "display_name": "Python 3",
   "language": "python",
   "name": "python3"
  },
  "language_info": {
   "codemirror_mode": {
    "name": "ipython",
    "version": 3
   },
   "file_extension": ".py",
   "mimetype": "text/x-python",
   "name": "python",
   "nbconvert_exporter": "python",
   "pygments_lexer": "ipython3",
   "version": "3.10.11"
  }
 },
 "nbformat": 4,
 "nbformat_minor": 2
}
