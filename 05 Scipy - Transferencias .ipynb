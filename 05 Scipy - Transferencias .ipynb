{
 "cells": [
  {
   "cell_type": "code",
   "execution_count": 1,
   "metadata": {},
   "outputs": [],
   "source": [
    "import scipy.signal as ss\n",
    "import sympy as sp"
   ]
  },
  {
   "cell_type": "code",
   "execution_count": 2,
   "metadata": {},
   "outputs": [
    {
     "data": {
      "image/jpeg": "[encoded data removed]",
      "text/html": [
       "\n",
       "        <iframe\n",
       "            width=\"800\"\n",
       "            height=\"450\"\n",
       "            src=\"https://www.youtube.com/embed/Kc7Wejo9PKM\"\n",
       "            frameborder=\"0\"\n",
       "            allowfullscreen\n",
       "            \n",
       "        ></iframe>\n",
       "        "
      ],
      "text/plain": [
       "<IPython.lib.display.YouTubeVideo at 0x7ff442714640>"
      ]
     },
     "execution_count": 2,
     "metadata": {},
     "output_type": "execute_result"
    }
   ],
   "source": [
    "\n",
    "from IPython.display import YouTubeVideo\n",
    "\n",
    "YouTubeVideo('Kc7Wejo9PKM', width=800, height=450)"
   ]
  },
  {
   "cell_type": "code",
   "execution_count": 3,
   "metadata": {},
   "outputs": [
    {
     "data": {
      "text/plain": [
       "TransferFunctionContinuous(\n",
       "array([ 21., 126.]),\n",
       "array([ 1.,  9., 18.]),\n",
       "dt: None\n",
       ")"
      ]
     },
     "metadata": {},
     "output_type": "display_data"
    }
   ],
   "source": [
    "num = [21* 1.,21*6.]    # 21(s + 6)\n",
    "den = [1.,9.,18.]       # s^2 + 9s + 18\n",
    "H_nd = ss.TransferFunction(num,den)\n",
    "display(H_nd)"
   ]
  },
  {
   "cell_type": "code",
   "execution_count": 4,
   "metadata": {},
   "outputs": [
    {
     "data": {
      "text/plain": [
       "TransferFunctionContinuous(\n",
       "array([ 21., 126.]),\n",
       "array([ 1.,  9., 18.]),\n",
       "dt: None\n",
       ")"
      ]
     },
     "metadata": {},
     "output_type": "display_data"
    }
   ],
   "source": [
    "num = [21* 1.,21*6.]    # 21(s + 6)\n",
    "den = [1.,9.,18.]       # s^2 + 9s + 18\n",
    "H_nd = ss.lti(num,den)\n",
    "display(H_nd)"
   ]
  },
  {
   "cell_type": "code",
   "execution_count": 5,
   "metadata": {},
   "outputs": [
    {
     "data": {
      "text/plain": [
       "ZerosPolesGainContinuous(\n",
       "array([-6.]),\n",
       "array([-6, -3]),\n",
       "21,\n",
       "dt: None\n",
       ")"
      ]
     },
     "metadata": {},
     "output_type": "display_data"
    }
   ],
   "source": [
    "zeros = [-6.]\n",
    "poles = [-6,-3]\n",
    "gain = 21\n",
    "H_pzk= ss.lti(zeros, poles, gain)\n",
    "display(H_pzk)"
   ]
  },
  {
   "cell_type": "code",
   "execution_count": 6,
   "metadata": {},
   "outputs": [
    {
     "name": "stdout",
     "output_type": "stream",
     "text": [
      "Pasamos de la representación de coeficientes del numerador y numerador a polos,ceros y ganacia: ZerosPolesGainContinuous(\n",
      "array([-6.]),\n",
      "array([-6., -3.]),\n",
      "21.0,\n",
      "dt: None\n",
      ")\n",
      "Pasamos de la representación de  polos,ceros y ganacia a coeficientes del numerador y numerador: TransferFunctionContinuous(\n",
      "array([ 21., 126.]),\n",
      "array([ 1.,  9., 18.]),\n",
      "dt: None\n",
      ")\n"
     ]
    }
   ],
   "source": [
    "H_nd_to_pzk =  H_nd.to_zpk()\n",
    "H_pzg_to_nd = H_pzk.to_tf()\n",
    "\n",
    "print('Pasamos de la representación de coeficientes del numerador y numerador a polos,ceros y ganacia:',H_nd_to_pzk)\n",
    "print('Pasamos de la representación de  polos,ceros y ganacia a coeficientes del numerador y numerador:', H_pzg_to_nd)"
   ]
  },
  {
   "cell_type": "code",
   "execution_count": 7,
   "metadata": {},
   "outputs": [
    {
     "data": {
      "text/latex": [
       "$\\displaystyle \\frac{1}{C L s^{2} + C R s + 1}$"
      ],
      "text/plain": [
       "1/(C*L*s**2 + C*R*s + 1)"
      ]
     },
     "metadata": {},
     "output_type": "display_data"
    }
   ],
   "source": [
    "r,l,c,s = sp.symbols('R L C s')\n",
    "n=1/(s*c)\n",
    "d=r+s*l+1/(s*c)\n",
    "h=n/d\n",
    "display(h.expand())"
   ]
  },
  {
   "cell_type": "markdown",
   "metadata": {},
   "source": [
    "<img src=\"./resources/RLC.png\">"
   ]
  },
  {
   "cell_type": "code",
   "execution_count": 8,
   "metadata": {},
   "outputs": [
    {
     "data": {
      "text/plain": [
       "TransferFunctionContinuous(\n",
       "array([1.e+10]),\n",
       "array([1.e+00, 5.e+04, 1.e+10]),\n",
       "dt: None\n",
       ")"
      ]
     },
     "metadata": {},
     "output_type": "display_data"
    },
    {
     "data": {
      "text/plain": [
       "ZerosPolesGainContinuous(\n",
       "array([], dtype=float64),\n",
       "array([-25000.+96824.58365519j, -25000.-96824.58365519j]),\n",
       "10000000000.0,\n",
       "dt: None\n",
       ")"
      ]
     },
     "metadata": {},
     "output_type": "display_data"
    }
   ],
   "source": [
    "R=500\n",
    "L=10E-3\n",
    "C=10E-9\n",
    "\n",
    "num = [1]\n",
    "den = [L*C, R*C, 1]\n",
    "\n",
    "H_lowpass= ss.lti(num, den)\n",
    "display(H_lowpass)\n",
    "display(H_lowpass.to_zpk())"
   ]
  }
 ],
 "metadata": {
  "kernelspec": {
   "display_name": "Python 3",
   "language": "python",
   "name": "python3"
  },
  "language_info": {
   "codemirror_mode": {
    "name": "ipython",
    "version": 3
   },
   "file_extension": ".py",
   "mimetype": "text/x-python",
   "name": "python",
   "nbconvert_exporter": "python",
   "pygments_lexer": "ipython3",
   "version": "3.10.11"
  }
 },
 "nbformat": 4,
 "nbformat_minor": 2
}
